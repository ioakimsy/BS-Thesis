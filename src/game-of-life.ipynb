{
 "cells": [
  {
   "cell_type": "code",
   "execution_count": 40,
   "metadata": {},
   "outputs": [
    {
     "name": "stderr",
     "output_type": "stream",
     "text": [
      "\u001b[32m\u001b[1m  Activating\u001b[22m\u001b[39m project at `c:\\School\\BS Thesis\\src`\n",
      "\u001b[32m\u001b[1m   Resolving\u001b[22m\u001b[39m package versions...\n",
      "\u001b[32m\u001b[1m  No Changes\u001b[22m\u001b[39m to `C:\\School\\BS Thesis\\src\\Project.toml`\n",
      "\u001b[32m\u001b[1m  No Changes\u001b[22m\u001b[39m to `C:\\School\\BS Thesis\\src\\Manifest.toml`\n",
      "\u001b[32m\u001b[1m   Resolving\u001b[22m\u001b[39m package versions...\n",
      "\u001b[32m\u001b[1m  No Changes\u001b[22m\u001b[39m to `C:\\School\\BS Thesis\\src\\Project.toml`\n",
      "\u001b[32m\u001b[1m  No Changes\u001b[22m\u001b[39m to `C:\\School\\BS Thesis\\src\\Manifest.toml`\n",
      "\u001b[32m\u001b[1m   Resolving\u001b[22m\u001b[39m package versions...\n",
      "\u001b[32m\u001b[1m  No Changes\u001b[22m\u001b[39m to `C:\\School\\BS Thesis\\src\\Project.toml`\n",
      "\u001b[32m\u001b[1m  No Changes\u001b[22m\u001b[39m to `C:\\School\\BS Thesis\\src\\Manifest.toml`\n",
      "\u001b[32m\u001b[1m   Resolving\u001b[22m\u001b[39m package versions...\n",
      "\u001b[32m\u001b[1m  No Changes\u001b[22m\u001b[39m to `C:\\School\\BS Thesis\\src\\Project.toml`\n",
      "\u001b[32m\u001b[1m  No Changes\u001b[22m\u001b[39m to `C:\\School\\BS Thesis\\src\\Manifest.toml`\n"
     ]
    }
   ],
   "source": [
    "using Pkg\n",
    "Pkg.activate(\".\")\n",
    "Pkg.add(\"Plots\")\n",
    "Pkg.add(\"Distributed\")\n",
    "Pkg.add(\"BenchmarkTools\")\n",
    "using Plots\n",
    "using Distributed\n",
    "using BenchmarkTools"
   ]
  },
  {
   "cell_type": "code",
   "execution_count": 28,
   "metadata": {},
   "outputs": [
    {
     "data": {
      "text/plain": [
       "initialize_grid (generic function with 1 method)"
      ]
     },
     "execution_count": 28,
     "metadata": {},
     "output_type": "execute_result"
    }
   ],
   "source": [
    "function initialize_grid(size)\n",
    "    grid = zeros(Int64,size,size)\n",
    "    grid[2:size-1,2:size-1] = rand([0,1],size-2,size-2)\n",
    "    return grid\n",
    "end"
   ]
  },
  {
   "cell_type": "code",
   "execution_count": null,
   "metadata": {},
   "outputs": [],
   "source": [
    "function generate_next_generation(grid,size)\n",
    "    next_generation = zeros(Int64,size,size)\n",
    "    for y in 2:size-1, x in 2:size-1\n",
    "        temp_grid = grid[y-1:y+1,x-1:x+1]\n",
    "        temp_grid[2,2] = 0 \n",
    "        temp_sum = sum(temp_grid)\n",
    "\n",
    "        if temp_sum < 2 || temp_sum > 3             # if less than 2 or more than 3\n",
    "            next_generation[y,x] = 0\n",
    "\n",
    "        elseif temp_sum == 3\n",
    "            next_generation[y,x] = 1                # if 3 neighbors\n",
    "\n",
    "        elseif temp_sum == 2 && grid[y,x] == 1      # if 2 neighbors and alive\n",
    "            next_generation == 1\n",
    "\n",
    "        end\n",
    "\n",
    "    end\n",
    "\n",
    "    return next_generation\n",
    "\n",
    "end"
   ]
  },
  {
   "cell_type": "code",
   "execution_count": null,
   "metadata": {},
   "outputs": [
    {
     "ename": "LoadError",
     "evalue": "LoadError: UndefVarError: @parallel not defined\nin expression starting at In[37]:7",
     "output_type": "error",
     "traceback": [
      "LoadError: UndefVarError: @parallel not defined\nin expression starting at In[37]:7",
      "",
      "Stacktrace:",
      " [1] top-level scope",
      "   @ :0",
      " [2] eval",
      "   @ .\\boot.jl:368 [inlined]",
      " [3] include_string(mapexpr::typeof(REPL.softscope), mod::Module, code::String, filename::String)",
      "   @ Base .\\loading.jl:1428"
     ]
    }
   ],
   "source": [
    "function generate_animation(grid_collection,filename)\n",
    "    Ani = Animation()\n",
    "    println(\"generating animation\")\n",
    "\n",
    "\n",
    "    for generation_number in range(1,length(grid_collection))\n",
    "        if generation_number%(length(grid_collection)//10) == 0\n",
    "            println(\"Animating frame $(generation_number)/$(length(grid_collection))\")\n",
    "        end\n",
    "        frame(Ani,\n",
    "            heatmap(grid_collection[generation_number],\n",
    "            plot_title = \"Conway's Game of Life - Generation $(generation_number)\",\n",
    "            plot_titlefontsize = 12,\n",
    "            yflip=true,\n",
    "            aspect_ratio=:equal,\n",
    "            xlims=(0.5,size+0.5),\n",
    "            showaxis = false, #Removes the axes' black lines\n",
    "            axis=([], false), #Removes the numbrs on the axis\n",
    "            ylims=(0.5,size+0.5),\n",
    "            dpi=300,\n",
    "            cbar=false,\n",
    "            c = palette(:grays,rev=true)\n",
    "            )\n",
    "        \n",
    "        )\n",
    "    end\n",
    "\n",
    "    return gif(Ani,filename,fps=2)\n",
    "end"
   ]
  },
  {
   "cell_type": "code",
   "execution_count": 43,
   "metadata": {},
   "outputs": [
    {
     "name": "stderr",
     "output_type": "stream",
     "text": [
      "┌ Warning: Performing scalar indexing on task Task (runnable) @0x000000000bb0f080.\n",
      "│ Invocation of setindex! resulted in scalar indexing of a GPU array.\n",
      "│ This is typically caused by calling an iterating implementation of a method.\n",
      "│ Such implementations *do not* execute on the GPU, but very slowly on the CPU,\n",
      "│ and therefore are only permitted from the REPL for prototyping purposes.\n",
      "│ If you did intend to index this array, annotate the caller with @allowscalar.\n",
      "└ @ GPUArraysCore C:\\Users\\ioakimsy\\.julia\\packages\\GPUArraysCore\\lojQM\\src\\GPUArraysCore.jl:90\n"
     ]
    }
   ],
   "source": [
    "begin\n",
    "size = 500\n",
    "max_generations = 25\n",
    "grid_collection = []\n",
    "\n",
    "grid = initialize_grid(size)\n",
    "\n",
    "\n",
    "for generation in 1:max_generations\n",
    "    if generation%(max_generations//10)==0\n",
    "        #println(\"generating generation: $(generation)\")\n",
    "    end\n",
    "    push!(grid_collection,grid)\n",
    "    grid = generate_next_generation(grid,size)\n",
    "end\n",
    "end\n",
    "\n",
    "#generate_animation(grid_collection,\"C:/School/BS Thesis/src/game-of-life.gif\")\n"
   ]
  },
  {
   "cell_type": "code",
   "execution_count": null,
   "metadata": {},
   "outputs": [],
   "source": []
  }
 ],
 "metadata": {
  "kernelspec": {
   "display_name": "Julia 1.8.2",
   "language": "julia",
   "name": "julia-1.8"
  },
  "language_info": {
   "file_extension": ".jl",
   "mimetype": "application/julia",
   "name": "julia",
   "version": "1.8.2"
  },
  "orig_nbformat": 4
 },
 "nbformat": 4,
 "nbformat_minor": 2
}
