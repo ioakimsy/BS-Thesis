{
 "cells": [
  {
   "cell_type": "code",
   "execution_count": 40,
   "metadata": {},
   "outputs": [
    {
     "name": "stderr",
     "output_type": "stream",
     "text": [
      "\u001b[32m\u001b[1m  Activating\u001b[22m\u001b[39m project at `c:\\School\\BS Thesis\\src`\n",
      "\u001b[32m\u001b[1m   Resolving\u001b[22m\u001b[39m package versions...\n",
      "\u001b[32m\u001b[1m  No Changes\u001b[22m\u001b[39m to `C:\\School\\BS Thesis\\src\\Project.toml`\n",
      "\u001b[32m\u001b[1m  No Changes\u001b[22m\u001b[39m to `C:\\School\\BS Thesis\\src\\Manifest.toml`\n",
      "\u001b[32m\u001b[1m   Resolving\u001b[22m\u001b[39m package versions...\n",
      "\u001b[32m\u001b[1m  No Changes\u001b[22m\u001b[39m to `C:\\School\\BS Thesis\\src\\Project.toml`\n",
      "\u001b[32m\u001b[1m  No Changes\u001b[22m\u001b[39m to `C:\\School\\BS Thesis\\src\\Manifest.toml`\n",
      "\u001b[32m\u001b[1m   Resolving\u001b[22m\u001b[39m package versions...\n",
      "\u001b[32m\u001b[1m  No Changes\u001b[22m\u001b[39m to `C:\\School\\BS Thesis\\src\\Project.toml`\n",
      "\u001b[32m\u001b[1m  No Changes\u001b[22m\u001b[39m to `C:\\School\\BS Thesis\\src\\Manifest.toml`\n",
      "\u001b[32m\u001b[1m   Resolving\u001b[22m\u001b[39m package versions...\n",
      "\u001b[32m\u001b[1m  No Changes\u001b[22m\u001b[39m to `C:\\School\\BS Thesis\\src\\Project.toml`\n",
      "\u001b[32m\u001b[1m  No Changes\u001b[22m\u001b[39m to `C:\\School\\BS Thesis\\src\\Manifest.toml`\n"
     ]
    }
   ],
   "source": [
    "using Pkg\n",
    "Pkg.activate(\".\")\n",
    "Pkg.add(\"Plots\")\n",
    "Pkg.add(\"Distributed\")\n",
    "Pkg.add(\"BenchmarkTools\")\n",
    "Pkg.add(\"CUDA\")\n",
    "using Plots\n",
    "using Distributed\n",
    "using BenchmarkTools\n",
    "using CUDA"
   ]
  },
  {
   "cell_type": "code",
   "execution_count": 28,
   "metadata": {},
   "outputs": [
    {
     "data": {
      "text/plain": [
       "initialize_grid (generic function with 1 method)"
      ]
     },
     "execution_count": 28,
     "metadata": {},
     "output_type": "execute_result"
    }
   ],
   "source": [
    "function initialize_grid(size)\n",
    "    grid = zeros(Int64,size,size)\n",
    "    grid[2:size-1,2:size-1] = rand([0,1],size-2,size-2)\n",
    "    return grid\n",
    "end"
   ]
  },
  {
   "cell_type": "code",
   "execution_count": null,
   "metadata": {},
   "outputs": [],
   "source": [
    "function generate_next_generation(grid,size)\n",
    "    next_generation = zeros(Int64,size,size)\n",
    "    for y in 2:size-1, x in 2:size-1\n",
    "        temp_grid = grid[y-1:y+1,x-1:x+1]\n",
    "        temp_grid[2,2] = 0 \n",
    "        temp_sum = sum(temp_grid)\n",
    "\n",
    "        if temp_sum < 2 || temp_sum > 3             # if less than 2 or more than 3\n",
    "            next_generation[y,x] = 0\n",
    "\n",
    "        elseif temp_sum == 3\n",
    "            next_generation[y,x] = 1                # if 3 neighbors\n",
    "\n",
    "        elseif temp_sum == 2 && grid[y,x] == 1      # if 2 neighbors and alive\n",
    "            next_generation == 1\n",
    "\n",
    "        end\n",
    "\n",
    "    end\n",
    "\n",
    "    return next_generation\n",
    "\n",
    "end"
   ]
  },
  {
   "cell_type": "code",
   "execution_count": null,
   "metadata": {},
   "outputs": [
    {
     "ename": "LoadError",
     "evalue": "LoadError: UndefVarError: @parallel not defined\nin expression starting at In[37]:7",
     "output_type": "error",
     "traceback": [
      "LoadError: UndefVarError: @parallel not defined\nin expression starting at In[37]:7",
      "",
      "Stacktrace:",
      " [1] top-level scope",
      "   @ :0",
      " [2] eval",
      "   @ .\\boot.jl:368 [inlined]",
      " [3] include_string(mapexpr::typeof(REPL.softscope), mod::Module, code::String, filename::String)",
      "   @ Base .\\loading.jl:1428"
     ]
    }
   ],
   "source": [
    "function generate_animation(grid_collection,filename)\n",
    "    Ani = Animation()\n",
    "    println(\"generating animation\")\n",
    "\n",
    "\n",
    "    for generation_number in range(1,length(grid_collection))\n",
    "        if generation_number%(length(grid_collection)//10) == 0\n",
    "            println(\"Animating frame $(generation_number)/$(length(grid_collection))\")\n",
    "        end\n",
    "        frame(Ani,\n",
    "            heatmap(grid_collection[generation_number],\n",
    "            plot_title = \"Conway's Game of Life - Generation $(generation_number)\",\n",
    "            plot_titlefontsize = 12,\n",
    "            yflip=true,\n",
    "            aspect_ratio=:equal,\n",
    "            xlims=(0.5,size+0.5),\n",
    "            showaxis = false, #Removes the axes' black lines\n",
    "            axis=([], false), #Removes the numbrs on the axis\n",
    "            ylims=(0.5,size+0.5),\n",
    "            dpi=300,\n",
    "            cbar=false,\n",
    "            c = palette(:grays,rev=true)\n",
    "            )\n",
    "        \n",
    "        )\n",
    "    end\n",
    "\n",
    "    return gif(Ani,filename,fps=2)\n",
    "end"
   ]
  },
  {
   "cell_type": "code",
   "execution_count": 35,
   "metadata": {},
   "outputs": [],
   "source": [
    "## Tried using @distributed in the generate_next_generation function"
   ]
  },
  {
   "cell_type": "code",
   "execution_count": 43,
   "metadata": {},
   "outputs": [
    {
     "name": "stderr",
     "output_type": "stream",
     "text": [
      "┌ Warning: Performing scalar indexing on task Task (runnable) @0x000000000bb0f080.\n",
      "│ Invocation of setindex! resulted in scalar indexing of a GPU array.\n",
      "│ This is typically caused by calling an iterating implementation of a method.\n",
      "│ Such implementations *do not* execute on the GPU, but very slowly on the CPU,\n",
      "│ and therefore are only permitted from the REPL for prototyping purposes.\n",
      "│ If you did intend to index this array, annotate the caller with @allowscalar.\n",
      "└ @ GPUArraysCore C:\\Users\\ioakimsy\\.julia\\packages\\GPUArraysCore\\lojQM\\src\\GPUArraysCore.jl:90\n"
     ]
    }
   ],
   "source": [
    "@benchmark begin\n",
    "size = 500\n",
    "max_generations = 25\n",
    "grid_collection = []\n",
    "\n",
    "grid = initialize_grid(size)\n",
    "\n",
    "\n",
    "for generation in 1:max_generations\n",
    "    if generation%(max_generations//10)==0\n",
    "        #println(\"generating generation: $(generation)\")\n",
    "    end\n",
    "    push!(grid_collection,grid)\n",
    "    grid = generate_next_generation(grid,size)\n",
    "end\n",
    "end\n",
    "\n",
    "#generate_animation(grid_collection,\"C:/School/BS Thesis/src/game-of-life.gif\")\n"
   ]
  },
  {
   "cell_type": "code",
   "execution_count": 33,
   "metadata": {},
   "outputs": [
    {
     "data": {
      "text/plain": [
       "BenchmarkTools.Trial: 4 samples with 1 evaluation.\n",
       " Range \u001b[90m(\u001b[39m\u001b[36m\u001b[1mmin\u001b[22m\u001b[39m … \u001b[35mmax\u001b[39m\u001b[90m):  \u001b[39m\u001b[36m\u001b[1m978.549 ms\u001b[22m\u001b[39m … \u001b[35m   1.553 s\u001b[39m  \u001b[90m┊\u001b[39m GC \u001b[90m(\u001b[39mmin … max\u001b[90m): \u001b[39m 6.32% … 37.89%\n",
       " Time  \u001b[90m(\u001b[39m\u001b[34m\u001b[1mmedian\u001b[22m\u001b[39m\u001b[90m):     \u001b[39m\u001b[34m\u001b[1m   1.235 s               \u001b[22m\u001b[39m\u001b[90m┊\u001b[39m GC \u001b[90m(\u001b[39mmedian\u001b[90m):    \u001b[39m 8.60%\n",
       " Time  \u001b[90m(\u001b[39m\u001b[32m\u001b[1mmean\u001b[22m\u001b[39m ± \u001b[32mσ\u001b[39m\u001b[90m):   \u001b[39m\u001b[32m\u001b[1m   1.250 s\u001b[22m\u001b[39m ± \u001b[32m252.572 ms\u001b[39m  \u001b[90m┊\u001b[39m GC \u001b[90m(\u001b[39mmean ± σ\u001b[90m):  \u001b[39m17.25% ± 15.05%\n",
       "\n",
       "  \u001b[39m█\u001b[39m \u001b[39m \u001b[39m \u001b[39m \u001b[39m \u001b[39m \u001b[39m \u001b[39m \u001b[39m \u001b[39m \u001b[39m \u001b[39m \u001b[39m \u001b[39m \u001b[34m█\u001b[39m\u001b[39m \u001b[39m \u001b[39m \u001b[39m \u001b[39m \u001b[39m \u001b[39m \u001b[39m \u001b[39m \u001b[39m \u001b[39m \u001b[39m \u001b[39m \u001b[32m \u001b[39m\u001b[39m \u001b[39m \u001b[39m \u001b[39m \u001b[39m \u001b[39m \u001b[39m \u001b[39m \u001b[39m \u001b[39m█\u001b[39m \u001b[39m \u001b[39m \u001b[39m \u001b[39m \u001b[39m \u001b[39m \u001b[39m \u001b[39m \u001b[39m \u001b[39m \u001b[39m \u001b[39m \u001b[39m \u001b[39m \u001b[39m \u001b[39m \u001b[39m \u001b[39m \u001b[39m \u001b[39m█\u001b[39m \u001b[39m \n",
       "  \u001b[39m█\u001b[39m▁\u001b[39m▁\u001b[39m▁\u001b[39m▁\u001b[39m▁\u001b[39m▁\u001b[39m▁\u001b[39m▁\u001b[39m▁\u001b[39m▁\u001b[39m▁\u001b[39m▁\u001b[39m▁\u001b[39m▁\u001b[34m█\u001b[39m\u001b[39m▁\u001b[39m▁\u001b[39m▁\u001b[39m▁\u001b[39m▁\u001b[39m▁\u001b[39m▁\u001b[39m▁\u001b[39m▁\u001b[39m▁\u001b[39m▁\u001b[39m▁\u001b[39m▁\u001b[32m▁\u001b[39m\u001b[39m▁\u001b[39m▁\u001b[39m▁\u001b[39m▁\u001b[39m▁\u001b[39m▁\u001b[39m▁\u001b[39m▁\u001b[39m▁\u001b[39m█\u001b[39m▁\u001b[39m▁\u001b[39m▁\u001b[39m▁\u001b[39m▁\u001b[39m▁\u001b[39m▁\u001b[39m▁\u001b[39m▁\u001b[39m▁\u001b[39m▁\u001b[39m▁\u001b[39m▁\u001b[39m▁\u001b[39m▁\u001b[39m▁\u001b[39m▁\u001b[39m▁\u001b[39m▁\u001b[39m▁\u001b[39m█\u001b[39m \u001b[39m▁\n",
       "  979 ms\u001b[90m           Histogram: frequency by time\u001b[39m          1.55 s \u001b[0m\u001b[1m<\u001b[22m\n",
       "\n",
       " Memory estimate\u001b[90m: \u001b[39m\u001b[33m808.33 MiB\u001b[39m, allocs estimate\u001b[90m: \u001b[39m\u001b[33m6200158\u001b[39m."
      ]
     },
     "execution_count": 33,
     "metadata": {},
     "output_type": "execute_result"
    }
   ],
   "source": [
    "@benchmark begin\n",
    "    size = 500\n",
    "    max_generations = 25\n",
    "    grid_collection = []\n",
    "    \n",
    "    grid = initialize_grid(size)\n",
    "    \n",
    "    \n",
    "    for generation in 1:max_generations\n",
    "        if generation%(max_generations//10)==0\n",
    "            #println(\"generating generation: $(generation)\")\n",
    "        end\n",
    "        push!(grid_collection,grid)\n",
    "        grid = generate_next_generation(grid,size)\n",
    "    end\n",
    "    end\n",
    "    \n",
    "    #generate_animation(grid_collection,\"C:/School/BS Thesis/src/game-of-life.gif\")\n",
    "    "
   ]
  },
  {
   "cell_type": "code",
   "execution_count": 41,
   "metadata": {},
   "outputs": [
    {
     "name": "stderr",
     "output_type": "stream",
     "text": [
      "\u001b[32m\u001b[1m Downloading\u001b[22m\u001b[39m artifact: CUDA\n"
     ]
    },
    {
     "name": "stdout",
     "output_type": "stream",
     "text": [
      "CUDA toolkit 11.7, artifact installation\n",
      "NVIDIA driver 526.98.0, for CUDA 12.0\n",
      "CUDA driver 12.0\n",
      "\n",
      "Libraries: \n",
      "- CUBLAS: 11.10.1\n",
      "- CURAND: 10.2.10\n",
      "- CUFFT: 10.7.1\n",
      "- CUSOLVER: 11.3.5\n",
      "- CUSPARSE: 11.7.3\n",
      "- CUPTI: 17.0.0\n",
      "- NVML: 11.0.0+526.98\n"
     ]
    },
    {
     "name": "stderr",
     "output_type": "stream",
     "text": [
      "\u001b[32m\u001b[1m Downloading\u001b[22m\u001b[39m artifact: CUDNN\n"
     ]
    },
    {
     "name": "stdout",
     "output_type": "stream",
     "text": [
      "- CUDNN: 8.30.2 (for CUDA 11.5.0)\n"
     ]
    },
    {
     "name": "stderr",
     "output_type": "stream",
     "text": [
      "\u001b[32m\u001b[1m Downloading\u001b[22m\u001b[39m artifact: CUTENSOR\n"
     ]
    },
    {
     "name": "stdout",
     "output_type": "stream",
     "text": [
      "- CUTENSOR: 1.4.0 (for CUDA 11.5.0)\n",
      "\n",
      "Toolchain:\n",
      "- Julia: 1.8.2\n",
      "- LLVM: 13.0.1\n",
      "- PTX ISA support: 3.2, 4.0, 4.1, 4.2, 4.3, 5.0, 6.0, 6.1, 6.3, 6.4, 6.5, 7.0, 7.1, 7.2\n",
      "- Device capability support: sm_35, sm_37, sm_50, sm_52, sm_53, sm_60, sm_61, sm_62, sm_70, sm_72, sm_75, sm_80, sm_86\n",
      "\n",
      "1 device:\n",
      "  0: NVIDIA GeForce GTX 1650 Ti with Max-Q Design (sm_75, 2.514 GiB / 4.000 GiB available)\n"
     ]
    }
   ],
   "source": [
    "CUDA.versioninfo()"
   ]
  },
  {
   "cell_type": "code",
   "execution_count": null,
   "metadata": {},
   "outputs": [],
   "source": []
  }
 ],
 "metadata": {
  "kernelspec": {
   "display_name": "Julia 1.8.2",
   "language": "julia",
   "name": "julia-1.8"
  },
  "language_info": {
   "file_extension": ".jl",
   "mimetype": "application/julia",
   "name": "julia",
   "version": "1.8.2"
  },
  "orig_nbformat": 4
 },
 "nbformat": 4,
 "nbformat_minor": 2
}
