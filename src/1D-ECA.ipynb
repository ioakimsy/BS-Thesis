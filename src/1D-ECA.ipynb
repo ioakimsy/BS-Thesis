{
 "cells": [
  {
   "cell_type": "markdown",
   "metadata": {},
   "source": [
    "# Generating Wolfram ECA's for all rules"
   ]
  },
  {
   "cell_type": "markdown",
   "metadata": {},
   "source": [
    "## Setting up packages"
   ]
  },
  {
   "cell_type": "code",
   "execution_count": 1,
   "metadata": {},
   "outputs": [
    {
     "name": "stderr",
     "output_type": "stream",
     "text": [
      "\u001b[32m\u001b[1m  Activating\u001b[22m\u001b[39m project at `c:\\School\\BS Thesis\\src`\n",
      "\u001b[32m\u001b[1m    Updating\u001b[22m\u001b[39m registry at `C:\\Users\\ioakimsy\\.julia\\registries\\General.toml`\n",
      "\u001b[32m\u001b[1m   Resolving\u001b[22m\u001b[39m package versions...\n",
      "\u001b[32m\u001b[1m  No Changes\u001b[22m\u001b[39m to `C:\\School\\BS Thesis\\src\\Project.toml`\n",
      "\u001b[32m\u001b[1m  No Changes\u001b[22m\u001b[39m to `C:\\School\\BS Thesis\\src\\Manifest.toml`\n"
     ]
    }
   ],
   "source": [
    "using Pkg\n",
    "Pkg.activate(\".\")\n",
    "Pkg.add(\"Plots\")"
   ]
  },
  {
   "cell_type": "code",
   "execution_count": 2,
   "metadata": {},
   "outputs": [],
   "source": [
    "using Plots"
   ]
  },
  {
   "cell_type": "markdown",
   "metadata": {},
   "source": [
    "## Conversion of rule number to set of state rules"
   ]
  },
  {
   "cell_type": "code",
   "execution_count": 3,
   "metadata": {},
   "outputs": [
    {
     "data": {
      "text/plain": [
       "rule_to_state (generic function with 1 method)"
      ]
     },
     "execution_count": 3,
     "metadata": {},
     "output_type": "execute_result"
    }
   ],
   "source": [
    "#Conversion of rule number to state set\n",
    "function rule_to_state(rule)\n",
    "    answer = zeros(Int64,1,8)\n",
    "    if rule>=0 && rule<=255\n",
    "        for i in 7:-1:0\n",
    "            if rule>=2^i\n",
    "                answer[i+1]=1\n",
    "                rule = rule-2^i\n",
    "            end\n",
    "        end\n",
    "        return reverse(answer)\n",
    "    end\n",
    "end\n"
   ]
  },
  {
   "cell_type": "markdown",
   "metadata": {},
   "source": [
    "## Generating the next generation given the previous generation"
   ]
  },
  {
   "cell_type": "code",
   "execution_count": 4,
   "metadata": {},
   "outputs": [
    {
     "data": {
      "text/plain": [
       "generate_next_generation (generic function with 1 method)"
      ]
     },
     "execution_count": 4,
     "metadata": {},
     "output_type": "execute_result"
    }
   ],
   "source": [
    "function generate_next_generation(prev_generation,array_size,state_array)\n",
    "    states = [\n",
    "            [1,1,1],\n",
    "            [1,1,0],\n",
    "            [1,0,1],\n",
    "            [1,0,0],\n",
    "            [0,1,1],\n",
    "            [0,1,0],\n",
    "            [0,0,1],\n",
    "            [0,0,0]\n",
    "            ]\n",
    "    next_generation = zeros(Int64,1,array_size)\n",
    "    Threads.@threads for i in range(2,array_size-1)\n",
    "        neighborhood = prev_generation[i-1:i+1]\n",
    "        Threads.@threads for state_number in 1:1:8\n",
    "            if neighborhood == states[state_number]\n",
    "                next_generation[i]=state_array[state_number]\n",
    "            end\n",
    "        end\n",
    "    end\n",
    "    return next_generation\n",
    "end\n"
   ]
  },
  {
   "cell_type": "markdown",
   "metadata": {},
   "source": [
    "## Generating the whole grid given initial conditions and the rule number"
   ]
  },
  {
   "cell_type": "code",
   "execution_count": 5,
   "metadata": {},
   "outputs": [
    {
     "data": {
      "text/plain": [
       "generate_plot (generic function with 1 method)"
      ]
     },
     "execution_count": 5,
     "metadata": {},
     "output_type": "execute_result"
    }
   ],
   "source": [
    "function generate_plot(grid,rule)\n",
    "    max_generations, array_size = size(grid)\n",
    "    #println(\"max generations: \", max_generations, \"\\ngrid size per generattion: \", array_size)\n",
    "    state_array = rule_to_state(rule)\n",
    "    #println(\"applying rule \",rule)\n",
    "\n",
    "    steady_state = false\n",
    "\n",
    "    current_generation_number = 1\n",
    "    while current_generation_number < max_generations-1 && steady_state == false\n",
    "        current_generation = grid[current_generation_number,:]\n",
    "        next_generation = generate_next_generation(current_generation,array_size,state_array)\n",
    "        #println(\"generating generation:\", current_generation_number+1)\n",
    "        grid[current_generation_number+1,:] = next_generation #error here, check if next generation is being produced correctly  \n",
    "        #println(\"prev generation: \", grid[current_generation_number,:])\n",
    "        #println(\"next generation: \", grid[current_generation_number+1,:])\n",
    "        #if grid[current_generation_number,:] == grid[current_generation_number+2,:]\n",
    "            #println(\"steady state reached after \",current_generation_number,\" generations\")\n",
    "            #steady_state = true\n",
    "            #break\n",
    "        #end\n",
    "        current_generation_number = current_generation_number + 1\n",
    "\n",
    "    end\n",
    "\n",
    "    return grid, current_generation_number\n",
    "\n",
    "end"
   ]
  },
  {
   "cell_type": "markdown",
   "metadata": {},
   "source": [
    "## Generating the plot from parameters: array size, maximum number of generations, and rule number"
   ]
  },
  {
   "cell_type": "code",
   "execution_count": 6,
   "metadata": {},
   "outputs": [
    {
     "data": {
      "text/plain": [
       "wolfram_ECA (generic function with 1 method)"
      ]
     },
     "execution_count": 6,
     "metadata": {},
     "output_type": "execute_result"
    }
   ],
   "source": [
    "function wolfram_ECA(array_size,max_generations,rule)\n",
    "    #Setting up first generation\n",
    "    ECA_grid = zeros(Int64,max_generations,array_size)\n",
    "\n",
    "    middle = (array_size+1)/2\n",
    "    middle = convert(Int,middle)\n",
    "\n",
    "    first_generation = zeros(Int64, 1, array_size)\n",
    "    first_generation[middle] = 1\n",
    "\n",
    "    ECA_grid[1,:] = first_generation\n",
    "\n",
    "    ECA_grid, number_of_generated_generations = generate_plot(ECA_grid,rule)\n",
    "    return heatmap(ECA_grid,\n",
    "            plot_title = \"Wolfram ECA Rule $(rule) with $(number_of_generated_generations+1) \\ngenerations of $(array_size) length arrays\",\n",
    "            plot_titlefontsize = 24,\n",
    "            yflip=true,\n",
    "            aspect_ratio=:equal,\n",
    "            xlims=(0.5,array_size+0.5),\n",
    "            showaxis = false, #Removes the axes' black lines\n",
    "            axis=([], false), #Removes the numbrs on the axis\n",
    "            ylims=(0.5,number_of_generated_generations+0.5),\n",
    "            #ylabel = \"Number of Generations\",\n",
    "            #dpi=150,\n",
    "            size=((array_size+50)*5,(number_of_generated_generations+75)*5),\n",
    "            cbar=false,\n",
    "            c = palette(:grays,rev=true)\n",
    "            )\n",
    "\n",
    "end"
   ]
  },
  {
   "cell_type": "markdown",
   "metadata": {},
   "source": [
    "## Saving output figures"
   ]
  },
  {
   "cell_type": "code",
   "execution_count": 8,
   "metadata": {},
   "outputs": [],
   "source": [
    "#Dimensions and rule number\n",
    "array_size = 129 #keep this an odd number!\n",
    "max_generations = 129\n",
    "\n",
    "for rule in 0:1:255\n",
    "    savefig(wolfram_ECA(array_size,max_generations,rule),\"C:/School/BS Thesis/output/wolfram-ECA-129x129/rule-$(rule).png\")\n",
    "end"
   ]
  }
 ],
 "metadata": {
  "kernelspec": {
   "display_name": "Julia (8 threads) 1.8.2",
   "language": "julia",
   "name": "julia-(8-threads)-1.8"
  },
  "language_info": {
   "file_extension": ".jl",
   "mimetype": "application/julia",
   "name": "julia",
   "version": "1.8.2"
  },
  "orig_nbformat": 4,
  "vscode": {
   "interpreter": {
    "hash": "ad2bdc8ecc057115af97d19610ffacc2b4e99fae6737bb82f5d7fb13d2f2c186"
   }
  }
 },
 "nbformat": 4,
 "nbformat_minor": 2
}
