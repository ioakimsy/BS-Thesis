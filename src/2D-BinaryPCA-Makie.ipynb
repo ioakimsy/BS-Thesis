{
 "cells": [
  {
   "cell_type": "code",
   "execution_count": 2,
   "metadata": {},
   "outputs": [
    {
     "name": "stderr",
     "output_type": "stream",
     "text": [
      "\u001b[32m\u001b[1m  Activating\u001b[22m\u001b[39m project at `c:\\School\\BS Thesis\\src`"
     ]
    },
    {
     "name": "stderr",
     "output_type": "stream",
     "text": [
      "\n",
      "\u001b[32m\u001b[1m   Resolving\u001b[22m\u001b[39m package versions...\n"
     ]
    },
    {
     "name": "stderr",
     "output_type": "stream",
     "text": [
      "\u001b[32m\u001b[1m  No Changes\u001b[22m\u001b[39m to `C:\\School\\BS Thesis\\src\\Project.toml`\n",
      "\u001b[32m\u001b[1m  No Changes\u001b[22m\u001b[39m to `C:\\School\\BS Thesis\\src\\Manifest.toml`\n"
     ]
    },
    {
     "name": "stderr",
     "output_type": "stream",
     "text": [
      "\u001b[32m\u001b[1m   Resolving\u001b[22m\u001b[39m package versions...\n"
     ]
    },
    {
     "name": "stderr",
     "output_type": "stream",
     "text": [
      "\u001b[32m\u001b[1m  No Changes\u001b[22m\u001b[39m to `C:\\School\\BS Thesis\\src\\Project.toml`\n",
      "\u001b[32m\u001b[1m  No Changes\u001b[22m\u001b[39m to `C:\\School\\BS Thesis\\src\\Manifest.toml`\n"
     ]
    }
   ],
   "source": [
    "using Pkg\n",
    "Pkg.activate(\".\")\n",
    "\n",
    "Pkg.add(\"CairoMakie\")\n",
    "Pkg.add(\"Random\")\n",
    "\n",
    "using CairoMakie\n",
    "using Random\n",
    "\n",
    "CairoMakie.activate!(type=\"svg\")"
   ]
  },
  {
   "cell_type": "code",
   "execution_count": null,
   "metadata": {},
   "outputs": [],
   "source": [
    "function initiate_grid(type::String, L::Int=8)\n",
    "    # May add line to ensure that L is even.\n",
    "    if L%2 == 1\n",
    "        L=L+1\n",
    "    end\n",
    "\n",
    "    grid = zeros(Int,L,L)\n",
    "\n",
    "    if type == \"center\"\n",
    "        grid[L÷2:L÷2+1,L÷2:L÷2+1] .= 1\n",
    "    elseif type == \"outer_corner\"\n",
    "        grid[1,1] = 1\n",
    "        grid[1,end] = 1\n",
    "        grid[end,1] = 1\n",
    "        grid[end,end] = 1 \n",
    "    elseif type == \"inner_corner\"\n",
    "        grid[L÷4,L÷4] = 1\n",
    "        grid[L÷4,end-L÷4+1] = 1\n",
    "        grid[end-L÷4+1,L÷4] = 1\n",
    "        grid[end-L÷4+1,end-L÷4+1] = 1\n",
    "    else\n",
    "        error(\"ERROR: Not a valid initital seating arrangement type\")\n",
    "    end\n",
    "\n",
    "    return grid\n",
    "end"
   ]
  },
  {
   "cell_type": "code",
   "execution_count": null,
   "metadata": {},
   "outputs": [],
   "source": [
    "function initiate_grid_rand(num_learned::Int=4,L::Int=8)\n",
    "    grid = zeros(Int,L,L)\n",
    "\n",
    "    while sum(grid) < num_learned\n",
    "        grid[rand(1:L),rand(1:L)] = 1\n",
    "    end\n",
    "\n",
    "    return grid\n",
    "end"
   ]
  },
  {
   "cell_type": "code",
   "execution_count": null,
   "metadata": {},
   "outputs": [],
   "source": [
    "test_grid = initiate_grid_rand(4,10)"
   ]
  },
  {
   "cell_type": "code",
   "execution_count": null,
   "metadata": {},
   "outputs": [],
   "source": []
  },
  {
   "cell_type": "code",
   "execution_count": null,
   "metadata": {},
   "outputs": [],
   "source": []
  }
 ],
 "metadata": {
  "kernelspec": {
   "display_name": "Julia 1.8.2",
   "language": "julia",
   "name": "julia-1.8"
  },
  "language_info": {
   "file_extension": ".jl",
   "mimetype": "application/julia",
   "name": "julia",
   "version": "1.8.2"
  },
  "orig_nbformat": 4
 },
 "nbformat": 4,
 "nbformat_minor": 2
}
