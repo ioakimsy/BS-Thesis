{
 "cells": [
  {
   "cell_type": "code",
   "execution_count": 44,
   "id": "3d9ffd80",
   "metadata": {},
   "outputs": [
    {
     "name": "stderr",
     "output_type": "stream",
     "text": [
      "\u001b[32m\u001b[1m  Activating\u001b[22m\u001b[39m project at `C:\\School\\BS Thesis\\src`\n",
      "\u001b[32m\u001b[1m   Resolving\u001b[22m\u001b[39m package versions...\n",
      "\u001b[32m\u001b[1m  No Changes\u001b[22m\u001b[39m to `C:\\School\\BS Thesis\\src\\Project.toml`\n",
      "\u001b[32m\u001b[1m  No Changes\u001b[22m\u001b[39m to `C:\\School\\BS Thesis\\src\\Manifest.toml`\n",
      "\u001b[32m\u001b[1m   Resolving\u001b[22m\u001b[39m package versions...\n",
      "\u001b[32m\u001b[1m  No Changes\u001b[22m\u001b[39m to `C:\\School\\BS Thesis\\src\\Project.toml`\n",
      "\u001b[32m\u001b[1m  No Changes\u001b[22m\u001b[39m to `C:\\School\\BS Thesis\\src\\Manifest.toml`\n"
     ]
    }
   ],
   "source": [
    "using Pkg\n",
    "Pkg.activate(\".\")\n",
    "Pkg.add(\"Plots\")\n",
    "Pkg.add(\"BenchmarkTools\")\n",
    "\n",
    "using Plots\n",
    "using BenchmarkTools"
   ]
  },
  {
   "cell_type": "markdown",
   "id": "6deb9bb7",
   "metadata": {
    "jp-MarkdownHeadingCollapsed": true,
    "tags": []
   },
   "source": [
    "# 1D Elementary Cellular Automata"
   ]
  },
  {
   "cell_type": "code",
   "execution_count": null,
   "id": "17911b47-8566-42a1-b2f4-6d274b54b992",
   "metadata": {},
   "outputs": [],
   "source": [
    "size=15\n",
    "grid = rand([0,1],1,size)\n",
    "\n",
    "new_grid = zeros(Int64, 1, size)\n",
    "for i in range(1,size)\n",
    "    if grid[1,i]==1\n",
    "        #println(\"checking index = \", i)\n",
    "        new_grid[1,i]=1\n",
    "        #println(\"index \", i, \"set to 1\")\n",
    "    else\n",
    "        #println(\"checking index = \", i)\n",
    "        if i==1\n",
    "            #println(\"cell at left end\")\n",
    "            if grid[1,i+1] == 1\n",
    "                new_grid[1,i]=1\n",
    "                #println(\"index \", i+1, \" is 1\")\n",
    "            end\n",
    "\n",
    "        elseif i == size\n",
    "            #println(\"cell at right end\")\n",
    "            if grid[1,i-1] == 1\n",
    "                new_grid[1,i]=1\n",
    "                #println(\"index \", i-1, \" is 1\")\n",
    "            end\n",
    "\n",
    "        else\n",
    "            #println(\"cell in the middle\")\n",
    "            if grid[1,i+1]==1 || grid[1,i-1] == 1\n",
    "                new_grid[1,i] = 1\n",
    "                #println(\"one of the adjacent cells is 1\")\n",
    "            end\n",
    "        end\n",
    "    end \n",
    "    #println(\"\")\n",
    "end         \n",
    "println(grid)\n",
    "#println(\"\")\n",
    "println(new_grid)"
   ]
  },
  {
   "cell_type": "code",
   "execution_count": null,
   "id": "e4445d20-531b-48c8-bd0f-afb01c585548",
   "metadata": {
    "tags": []
   },
   "outputs": [],
   "source": [
    "elem_CA_1D = Animation()\n",
    "frame(elem_CA_1D, heatmap!(grid))\n",
    "frame(elem_CA_1D, heatmap!(new_grid))\n",
    "gif(elem_CA_1D,fps=1)"
   ]
  },
  {
   "cell_type": "markdown",
   "id": "83b16a52",
   "metadata": {},
   "source": [
    "# 2D Elementary Cellular Automata"
   ]
  },
  {
   "cell_type": "code",
   "execution_count": 29,
   "id": "e335cefe",
   "metadata": {},
   "outputs": [
    {
     "data": {
      "text/plain": [
       "initial_grid_type (generic function with 1 method)"
      ]
     },
     "execution_count": 29,
     "metadata": {},
     "output_type": "execute_result"
    }
   ],
   "source": [
    "function initial_grid_type(kind,size)\n",
    "    grid = zeros(Int64,size,size)\n",
    "    \n",
    "    if kind == \"Corners\"\n",
    "        grid[1,1] = 1\n",
    "        grid[1,size] = 1\n",
    "        grid[size,1] = 1\n",
    "        grid[size,size] = 1\n",
    "        \n",
    "    elseif kind == \"Middle\"\n",
    "        if size%2 == 1\n",
    "            middle = (size+1)/2\n",
    "            middle = convert(Int,middle)\n",
    "            grid[middle,middle] = 1\n",
    "            \n",
    "        elseif size%2 == 0\n",
    "            middle = size/2\n",
    "            middle = convert(Int,middle)\n",
    "            grid[middle:middle+1,middle:middle+1] .= 1\n",
    "            \n",
    "        end\n",
    "        \n",
    "    end\n",
    "    \n",
    "    return grid\n",
    "end "
   ]
  },
  {
   "cell_type": "code",
   "execution_count": 3,
   "id": "b4281e09",
   "metadata": {},
   "outputs": [
    {
     "data": {
      "text/plain": [
       "generate_next_grid (generic function with 1 method)"
      ]
     },
     "execution_count": 3,
     "metadata": {},
     "output_type": "execute_result"
    }
   ],
   "source": [
    "function generate_next_grid(grid,size)\n",
    "    new_grid = zeros(Int64,size,size)\n",
    "\n",
    "    for x in range(1,size)\n",
    "        for y in range(1,size)\n",
    "\n",
    "            #Top left corner\n",
    "            if y==1 && x==1 && grid[y,x] == 1\n",
    "                new_grid[y,x:x+1] .= 1\n",
    "            \n",
    "            \n",
    "            #Top right corner\n",
    "            elseif y==1 && x==size && grid[y,x] == 1\n",
    "                new_grid[y,x-1:x] .= 1\n",
    "            \n",
    "        \n",
    "            #Top row, middle cells\n",
    "            elseif y==1 && x>1 && x<size && grid[y,x] == 1\n",
    "                new_grid[y,x-1:x+1] .= 1\n",
    "            \n",
    "        \n",
    "            #Left column, 2nd to last row\n",
    "            elseif y>1 && x==1 && grid[y,x] == 1\n",
    "                new_grid[y-1:y,x:x+1] .= 1\n",
    "            \n",
    "    \n",
    "            #Right column, 2nd row to last row\n",
    "            elseif y>1 && x==size && grid[y,x] == 1\n",
    "                new_grid[y-1:y,x-1:x] .= 1\n",
    "            \n",
    "            \n",
    "            #All middle cells\n",
    "            elseif y>1 && x>1 && x<size && grid[y,x] == 1\n",
    "                new_grid[y-1:y,x-1:x+1] .= 1\n",
    "            end\n",
    "\n",
    "        end\n",
    "    end\n",
    "    return new_grid\n",
    "end"
   ]
  },
  {
   "cell_type": "code",
   "execution_count": 47,
   "id": "4aa71b09",
   "metadata": {
    "tags": []
   },
   "outputs": [
    {
     "name": "stdout",
     "output_type": "stream",
     "text": [
      "\n"
     ]
    },
    {
     "name": "stderr",
     "output_type": "stream",
     "text": [
      "┌ Info: Saved animation to \n",
      "│   fn = C:\\School\\BS Thesis\\src\\tmp.gif\n",
      "└ @ Plots C:\\Users\\ioakimsy\\.julia\\packages\\Plots\\AAjgN\\src\\animation.jl:139\n"
     ]
    },
    {
     "name": "stdout",
     "output_type": "stream",
     "text": [
      "  1.181342 seconds (147.09 k allocations: 8.284 MiB, 7.28% compilation time)\n"
     ]
    },
    {
     "data": {
      "text/html": [
       "<img src=\"data:image/gif;base64,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\" />"
      ],
      "text/plain": [
       "Plots.AnimatedGif(\"C:\\\\School\\\\BS Thesis\\\\src\\\\tmp.gif\")"
      ]
     },
     "execution_count": 47,
     "metadata": {},
     "output_type": "execute_result"
    }
   ],
   "source": [
    "@time begin\n",
    "\n",
    "size = 8\n",
    "grid_collection = []\n",
    "max_grids = 30\n",
    "grid_count = 0\n",
    "steady_state = false\n",
    "full_grid = ones(Int64,size,size)\n",
    "\n",
    "#animation initialization\n",
    "Ani = Animation()\n",
    "\n",
    "#Initial grid\n",
    "grid = initial_grid_type(\"Corners\",size)\n",
    "push!(grid_collection,grid)\n",
    "#println(\"Done Initializing\")\n",
    "println(\"\")\n",
    "\n",
    "#generating next grids\n",
    "while grid_count < max_grids \n",
    "    if grid != full_grid\n",
    "        new_grid = generate_next_grid(grid,size)\n",
    "        push!(grid_collection,new_grid)\n",
    "        if new_grid==grid\n",
    "            steady_state = true\n",
    "            break\n",
    "        end\n",
    "        grid = new_grid\n",
    "        grid_count += 1\n",
    "    else\n",
    "        break\n",
    "    end\n",
    "end\n",
    "\n",
    "#generating the animation\n",
    "xs = [string(\"C\", i) for i = 1:size]\n",
    "ys = [string(\"R\", i) for i = 1:size]\n",
    "#println(\"Generating animation\")\n",
    "for grid_number in range(1,length(grid_collection))\n",
    "    frame(Ani,heatmap(xs,ys,grid_collection[grid_number],dpi=150,yflip=true,grid=true))\n",
    "end\n",
    "\n",
    "#Output\n",
    "if steady_state\n",
    "    #println(\"Steady state reached after \", grid_count, \" generations. No more infections can occur\")\n",
    "elseif grid_count<max_grids\n",
    "    #println(\"Steady state reached after \", grid_count, \" generations. Room fully infected\")\n",
    "else\n",
    "    #println(\"Room did not get fully infected, stopped at generation \", grid_count)\n",
    "end\n",
    "gif(Ani,fps=2)\n",
    "\n",
    "end"
   ]
  },
  {
   "cell_type": "code",
   "execution_count": 18,
   "id": "6b63c558-1568-4999-acf7-1fb9be162398",
   "metadata": {},
   "outputs": [
    {
     "data": {
      "text/plain": [
       "10×10 Matrix{Int64}:\n",
       " 0  0  0  0  0  0  0  0  0  0\n",
       " 0  0  0  0  0  0  0  0  0  0\n",
       " 0  0  0  0  0  0  0  0  0  0\n",
       " 0  0  0  0  0  0  0  0  0  0\n",
       " 0  0  0  0  1  1  0  0  0  0\n",
       " 0  0  0  0  1  1  0  0  0  0\n",
       " 0  0  0  0  0  0  0  0  0  0\n",
       " 0  0  0  0  0  0  0  0  0  0\n",
       " 0  0  0  0  0  0  0  0  0  0\n",
       " 0  0  0  0  0  0  0  0  0  0"
      ]
     },
     "execution_count": 18,
     "metadata": {},
     "output_type": "execute_result"
    }
   ],
   "source": [
    "grid = zeros(Int64,size,size)\n",
    "kind = \"Middle\"\n",
    "size = 10\n",
    "\n",
    "if kind == \"Corners\"\n",
    "    grid[1,1] = 1\n",
    "    grid[1,size] = 1\n",
    "    grid[size,1] = 1\n",
    "    grid[size,size] = 1\n",
    "\n",
    "elseif kind == \"Middle\"\n",
    "    if size%2 == 1\n",
    "        middle = (size-1)/2\n",
    "        middle = convert(Int,middle)\n",
    "        grid[middle,middle] = 1\n",
    "\n",
    "    elseif size%2 == 0\n",
    "        middle = size/2\n",
    "        middle = convert(Int,middle)\n",
    "        grid[middle:middle+1,middle:middle+1] .= 1\n",
    "\n",
    "    end\n",
    "\n",
    "end\n",
    "\n",
    "grid"
   ]
  },
  {
   "cell_type": "code",
   "execution_count": 35,
   "id": "77641165-2bcf-4032-98c6-d89247b93645",
   "metadata": {},
   "outputs": [
    {
     "name": "stdout",
     "output_type": "stream",
     "text": [
      "aspect_ratio {Symbol (:equal or :none) or Number}\n",
      "aspect_ratios, aspectratio, aspectratios, axis_ratio, axisratio, ratio\n",
      "\n",
      "Plot area is resized so that 1 y-unit is the same size as `aspect_ratio` x-units. With `:none`, images inherit aspect ratio of the plot area.\n",
      "Subplot attribute,  default: auto\n"
     ]
    }
   ],
   "source": [
    "plotattr(\"ratio\")"
   ]
  },
  {
   "cell_type": "code",
   "execution_count": null,
   "id": "2d412c8c-ebde-4328-a503-d0bc506a301f",
   "metadata": {},
   "outputs": [],
   "source": []
  }
 ],
 "metadata": {
  "kernelspec": {
   "display_name": "Julia 1.8.2",
   "language": "julia",
   "name": "julia-1.8"
  },
  "language_info": {
   "file_extension": ".jl",
   "mimetype": "application/julia",
   "name": "julia",
   "version": "1.8.2"
  }
 },
 "nbformat": 4,
 "nbformat_minor": 5
}
