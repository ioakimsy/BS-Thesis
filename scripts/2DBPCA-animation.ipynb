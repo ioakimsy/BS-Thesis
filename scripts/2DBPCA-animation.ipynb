{
 "cells": [
  {
   "cell_type": "code",
   "execution_count": 1,
   "metadata": {},
   "outputs": [],
   "source": [
    "import glob\n",
    "import os\n",
    "from PIL import Image as pilim"
   ]
  },
  {
   "cell_type": "code",
   "execution_count": 18,
   "metadata": {},
   "outputs": [],
   "source": [
    "def convertGIFtoPNG(imageLoadRelativePath, gifSaveRelativePath):\n",
    "    '''\n",
    "    imageLoadRelativePath: str, relative path to folder where to load png images\n",
    "    gifSaveRelativePath:   str, relative path to folder where to save gif\n",
    "    \n",
    "    Example:\n",
    "        >>> imageLoadRelativePath = './insert/path/to/load/images'\n",
    "        >>> gifSaveRelativePath   = './insert/path/to/save/'\n",
    "        >>> convertGIFtoPNG(imageLoadRelativePath, gifSaveRelativePath)\n",
    "    '''\n",
    "    \n",
    "    loadImagePATH = f'{imageLoadRelativePath}/*.png'\n",
    "    saveGIFPATH   = f'{gifSaveRelativePath}/output-gif.gif'\n",
    "    gif, *imgs    = [pilim.open(_file) for _file in sorted(glob.glob(loadImagePATH), key=os.path.getmtime)]\n",
    "    gif.save(fp=saveGIFPATH, format='GIF', append_images=imgs, save_all=True, duration=100, loop=0)"
   ]
  },
  {
   "cell_type": "code",
   "execution_count": 27,
   "metadata": {},
   "outputs": [],
   "source": [
    "imageLoadRelativePath = \"./../output/2D-Binary-PCA/random-128-4/0.25/trial_1/images\"\n",
    "gifSaveRelativePath = \".\""
   ]
  },
  {
   "cell_type": "code",
   "execution_count": 28,
   "metadata": {},
   "outputs": [],
   "source": [
    "convertGIFtoPNG(imageLoadRelativePath, gifSaveRelativePath)"
   ]
  },
  {
   "cell_type": "code",
   "execution_count": 35,
   "metadata": {},
   "outputs": [
    {
     "name": "stdout",
     "output_type": "stream",
     "text": [
      "random \t0.25 \t128 \t1\n",
      "random \t0.25 \t128 \t2\n",
      "random \t0.25 \t128 \t3\n",
      "random \t0.5 \t128 \t1\n",
      "random \t0.5 \t128 \t2\n",
      "random \t0.5 \t128 \t3\n",
      "random \t0.75 \t128 \t1\n",
      "random \t0.75 \t128 \t2\n",
      "random \t0.75 \t128 \t3\n"
     ]
    }
   ],
   "source": [
    "# List of parameters\n",
    "sizes = [128]\n",
    "seat_configs = [\"random\"]\n",
    "Λs = [0.25,0.5,0.75]\n",
    "steady_state_tolerance = 10\n",
    "n_trials = 3\n",
    "n_learned = 4\n",
    "\n",
    "for seat_config in seat_configs:\n",
    "    for λ in Λs:\n",
    "        for class_size in sizes :\n",
    "            for trial in range(1,n_trials+1):\n",
    "                print(f\"{seat_config} \t{λ} \t{class_size} \t{trial}\")"
   ]
  },
  {
   "cell_type": "code",
   "execution_count": null,
   "metadata": {},
   "outputs": [],
   "source": []
  }
 ],
 "metadata": {
  "kernelspec": {
   "display_name": "base",
   "language": "python",
   "name": "python3"
  },
  "language_info": {
   "codemirror_mode": {
    "name": "ipython",
    "version": 3
   },
   "file_extension": ".py",
   "mimetype": "text/x-python",
   "name": "python",
   "nbconvert_exporter": "python",
   "pygments_lexer": "ipython3",
   "version": "3.11.5"
  }
 },
 "nbformat": 4,
 "nbformat_minor": 2
}
